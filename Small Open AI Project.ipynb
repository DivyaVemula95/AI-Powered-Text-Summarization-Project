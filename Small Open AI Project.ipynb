{
 "cells": [
  {
   "cell_type": "code",
   "execution_count": 100,
   "id": "bf9b4a35-79e4-4550-9786-729d56111d05",
   "metadata": {},
   "outputs": [
    {
     "name": "stdout",
     "output_type": "stream",
     "text": [
      "Collecting openai==0.28\n",
      "  Using cached openai-0.28.0-py3-none-any.whl.metadata (13 kB)\n",
      "Requirement already satisfied: requests>=2.20 in /opt/anaconda3/lib/python3.12/site-packages (from openai==0.28) (2.32.2)\n",
      "Requirement already satisfied: tqdm in /opt/anaconda3/lib/python3.12/site-packages (from openai==0.28) (4.66.4)\n",
      "Requirement already satisfied: aiohttp in /opt/anaconda3/lib/python3.12/site-packages (from openai==0.28) (3.9.5)\n",
      "Requirement already satisfied: charset-normalizer<4,>=2 in /opt/anaconda3/lib/python3.12/site-packages (from requests>=2.20->openai==0.28) (2.0.4)\n",
      "Requirement already satisfied: idna<4,>=2.5 in /opt/anaconda3/lib/python3.12/site-packages (from requests>=2.20->openai==0.28) (3.7)\n",
      "Requirement already satisfied: urllib3<3,>=1.21.1 in /opt/anaconda3/lib/python3.12/site-packages (from requests>=2.20->openai==0.28) (2.2.2)\n",
      "Requirement already satisfied: certifi>=2017.4.17 in /opt/anaconda3/lib/python3.12/site-packages (from requests>=2.20->openai==0.28) (2024.8.30)\n",
      "Requirement already satisfied: aiosignal>=1.1.2 in /opt/anaconda3/lib/python3.12/site-packages (from aiohttp->openai==0.28) (1.2.0)\n",
      "Requirement already satisfied: attrs>=17.3.0 in /opt/anaconda3/lib/python3.12/site-packages (from aiohttp->openai==0.28) (23.1.0)\n",
      "Requirement already satisfied: frozenlist>=1.1.1 in /opt/anaconda3/lib/python3.12/site-packages (from aiohttp->openai==0.28) (1.4.0)\n",
      "Requirement already satisfied: multidict<7.0,>=4.5 in /opt/anaconda3/lib/python3.12/site-packages (from aiohttp->openai==0.28) (6.0.4)\n",
      "Requirement already satisfied: yarl<2.0,>=1.0 in /opt/anaconda3/lib/python3.12/site-packages (from aiohttp->openai==0.28) (1.9.3)\n",
      "Using cached openai-0.28.0-py3-none-any.whl (76 kB)\n",
      "Installing collected packages: openai\n",
      "  Attempting uninstall: openai\n",
      "    Found existing installation: openai 1.51.0\n",
      "    Uninstalling openai-1.51.0:\n",
      "      Successfully uninstalled openai-1.51.0\n",
      "Successfully installed openai-0.28.0\n",
      "Note: you may need to restart the kernel to use updated packages.\n"
     ]
    }
   ],
   "source": [
    "pip install openai==0.28"
   ]
  },
  {
   "cell_type": "code",
   "execution_count": 2,
   "id": "93407c1a-ca8e-4747-b197-47fe51a95783",
   "metadata": {},
   "outputs": [
    {
     "name": "stdin",
     "output_type": "stream",
     "text": [
      "Enter your Azure OpenAI API key:  29dd441a5eff4fff9748f9095fde380f\n",
      "Enter your Azure OpenAI endpoint (e.g., https://<your-resource-name>.openai.azure.com/):  https://myazureaipython.openai.azure.com/\n",
      "Enter the model name you want to use (e.g., gpt-35-turbo):  gpt-4o-mini\n",
      "What text file do you want to summarize? (with .txt extension and the full path):  /Users/divyavemula/Desktop/Test.txt\n",
      "What text file do you want to write the summary to? (with .txt extension and the full path):  /Users/divyavemula/Desktop/finale.txt\n",
      "In how many lines do you want to summarize this text?  2\n"
     ]
    },
    {
     "name": "stdout",
     "output_type": "stream",
     "text": [
      "Summary written to /Users/divyavemula/Desktop/finale.txt\n"
     ]
    }
   ],
   "source": [
    "import openai\n",
    "import os\n",
    "\n",
    "def access_openai(api_key, endpoint, model_name):\n",
    "    openai.api_type = \"azure\"\n",
    "    openai.api_key = api_key\n",
    "    openai.api_base = endpoint\n",
    "    openai.api_version = \"2023-05-15\"\n",
    "\n",
    "def read_file(file_path):\n",
    "    with open(file_path, 'r', encoding='utf-8') as file:\n",
    "        return file.read()\n",
    "\n",
    "def write_file(file_path, content):\n",
    "    with open(file_path, 'w', encoding='utf-8') as file:\n",
    "        file.write(content)\n",
    "\n",
    "def summary_text(text, num_lines, model_name):\n",
    "    prompt = f\"Please summarize the following text in {num_lines} lines:\\n{text}\"\n",
    "    response = openai.ChatCompletion.create(\n",
    "        engine=model_name,\n",
    "        messages=[\n",
    "            {\"role\": \"user\", \"content\": prompt}\n",
    "        ]\n",
    "    )\n",
    "    return response['choices'][0]['message']['content']\n",
    "    \n",
    "\n",
    "def main():\n",
    "  \n",
    "    try:\n",
    "        api_key = input(\"Enter your Azure OpenAI API key: \")\n",
    "        endpoint = input(\"Enter your Azure OpenAI endpoint (e.g., https://<your-resource-name>.openai.azure.com/): \")\n",
    "        model_name = input(\"Enter the model name you want to use (e.g., gpt-35-turbo): \")\n",
    "        \n",
    "        access_openai(api_key, endpoint, model_name)\n",
    "\n",
    "        input_file = input(\"What text file do you want to summarize? (with .txt extension and the full path): \")\n",
    "        output_file = input(\"What text file do you want to write the summary to? (with .txt extension and the full path): \")\n",
    "        num_lines = int(input(\"In how many lines do you want to summarize this text? \"))\n",
    "\n",
    "        if num_lines <= 0:\n",
    "            raise ValueError(\"The number of lines must be a positive integer.\")\n",
    "\n",
    "        # Read, summarize, and write to output\n",
    "        text = read_file(input_file)\n",
    "        summary = summary_text(text, num_lines, model_name)\n",
    "        write_file(output_file, summary)\n",
    "        print(f\"Summary written to {output_file}\")\n",
    "\n",
    "    except FileNotFoundError:\n",
    "        print(\"Error: The specified file was not found.\")\n",
    "    except PermissionError:\n",
    "        print(\"Error: You do not have permission to access this file.\")\n",
    "    except ValueError as ve:\n",
    "        print(f\"Input error: {ve}\")\n",
    "    except Exception as e:\n",
    "        print(f\"An unexpected error occurred: {e}\")\n",
    "\n",
    "if __name__ == \"__main__\":\n",
    "    main()\n"
   ]
  },
  {
   "cell_type": "code",
   "execution_count": null,
   "id": "ace66e94-b431-4a96-9424-12b59f370e80",
   "metadata": {},
   "outputs": [],
   "source": []
  }
 ],
 "metadata": {
  "kernelspec": {
   "display_name": "Python 3 (ipykernel)",
   "language": "python",
   "name": "python3"
  },
  "language_info": {
   "codemirror_mode": {
    "name": "ipython",
    "version": 3
   },
   "file_extension": ".py",
   "mimetype": "text/x-python",
   "name": "python",
   "nbconvert_exporter": "python",
   "pygments_lexer": "ipython3",
   "version": "3.12.4"
  }
 },
 "nbformat": 4,
 "nbformat_minor": 5
}
